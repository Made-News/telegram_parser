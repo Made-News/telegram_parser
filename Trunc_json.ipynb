{
 "cells": [
  {
   "cell_type": "code",
   "execution_count": 3,
   "id": "278c06d2",
   "metadata": {},
   "outputs": [],
   "source": [
    "import json\n",
    "import pickle"
   ]
  },
  {
   "cell_type": "code",
   "execution_count": 83,
   "id": "a33d6b6a",
   "metadata": {},
   "outputs": [],
   "source": [
    "with open('channel_messages.json', 'r') as file:\n",
    "    res = json.load(file)"
   ]
  },
  {
   "cell_type": "code",
   "execution_count": 85,
   "id": "ec21dfb0",
   "metadata": {},
   "outputs": [
    {
     "data": {
      "text/plain": [
       "dict_keys(['_', 'id', 'peer_id', 'date', 'message', 'out', 'mentioned', 'media_unread', 'silent', 'post', 'from_scheduled', 'legacy', 'edit_hide', 'pinned', 'from_id', 'fwd_from', 'via_bot_id', 'reply_to', 'media', 'reply_markup', 'entities', 'views', 'forwards', 'replies', 'edit_date', 'post_author', 'grouped_id', 'restriction_reason', 'ttl_period'])"
      ]
     },
     "execution_count": 85,
     "metadata": {},
     "output_type": "execute_result"
    }
   ],
   "source": [
    "res[0].keys()"
   ]
  },
  {
   "cell_type": "code",
   "execution_count": 87,
   "id": "5bfaf965",
   "metadata": {},
   "outputs": [],
   "source": [
    "tg_link = 'https://t.me'\n",
    "channel_name = 'rt_russian'\n",
    "\n",
    "res_trunc = {}\n",
    "for elem in res:\n",
    "    if elem['date'].split('T')[0] >= '2021-01-01':\n",
    "        try:\n",
    "            news_reference = elem['id']\n",
    "            news_link = f'{tg_link}/{channel_name}/{news_reference}'\n",
    "            article = {\n",
    "                   \"resource_link\": tg_link,\n",
    "                   \"resource_name\": channel_name,\n",
    "                   \"resource_type\": \"TG\",\n",
    "                   \"news_link\": news_link,\n",
    "                   \"news_publication_time\": elem['date'],\n",
    "                   \"news_headline\": None,\n",
    "                   \"news_authors\": None,\n",
    "                   \"news_topic\": None,\n",
    "                   \"news_emojis\": None,\n",
    "                   \"news_content\": elem['message'],\n",
    "                   \"news_views\": elem['views']\n",
    "            }\n",
    "            res_trunc[news_link] = article\n",
    "            # res_trunc.append(article)\n",
    "        except KeyError:\n",
    "            continue\n",
    "    else:\n",
    "        break\n"
   ]
  },
  {
   "cell_type": "code",
   "execution_count": 89,
   "id": "ebff1095",
   "metadata": {},
   "outputs": [],
   "source": [
    "with open('rt_dump.json', 'w') as file:\n",
    "    json.dump(res_trunc, file)"
   ]
  }
 ],
 "metadata": {
  "kernelspec": {
   "display_name": "Python 3.9.15 64-bit",
   "language": "python",
   "name": "python3"
  },
  "language_info": {
   "codemirror_mode": {
    "name": "ipython",
    "version": 3
   },
   "file_extension": ".py",
   "mimetype": "text/x-python",
   "name": "python",
   "nbconvert_exporter": "python",
   "pygments_lexer": "ipython3",
   "version": "3.9.15"
  },
  "vscode": {
   "interpreter": {
    "hash": "a665b5d41d17b532ea9890333293a1b812fa0b73c9c25c950b3cedf1bebd0438"
   }
  }
 },
 "nbformat": 4,
 "nbformat_minor": 5
}
